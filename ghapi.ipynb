{
 "cells": [
  {
   "cell_type": "code",
   "execution_count": null,
   "id": "09754855-a82a-481d-b8fb-f79af3a3e5e9",
   "metadata": {},
   "outputs": [],
   "source": [
    "import json\n",
    "\n",
    "import matplotlib.dates as mdates\n",
    "import matplotlib.pyplot as plt\n",
    "import pandas as pd\n",
    "from ghapi.all import GhApi, pages"
   ]
  },
  {
   "cell_type": "code",
   "execution_count": null,
   "id": "8cb6b8eb-0a16-4b56-8bd7-cb572f0498c7",
   "metadata": {},
   "outputs": [],
   "source": [
    "with open(\".secrets.json\") as read_file:\n",
    "    api = GhApi(token=json.load(read_file)[\"api_token\"])"
   ]
  },
  {
   "cell_type": "code",
   "execution_count": null,
   "id": "dc1207b0-ee29-4400-ab95-99f346f05cee",
   "metadata": {},
   "outputs": [],
   "source": [
    "api"
   ]
  },
  {
   "cell_type": "code",
   "execution_count": null,
   "id": "43ef8ca1-246f-4385-9197-b9b2777caecd",
   "metadata": {},
   "outputs": [],
   "source": [
    "# repo_list = [\"matthewfeickert/student-developer-reporting-demo\"]\n",
    "repo_list = [\"scikit-hep/pyhf\", \"scikit-hep/hist\"]\n",
    "developer_username = \"matthewfeickert\""
   ]
  },
  {
   "cell_type": "code",
   "execution_count": null,
   "id": "5f3064a3-015d-46a7-b863-7e1cec17bee9",
   "metadata": {},
   "outputs": [],
   "source": [
    "def get_data(repositories, username):\n",
    "    # This should be a dataframe\n",
    "    data = []\n",
    "    for repository in repositories:\n",
    "        owner, repo = repository.split(\"/\")\n",
    "        per_page = 30\n",
    "\n",
    "        _ = api.issues.list_for_repo(owner, repo, per_page=per_page, creator=username)\n",
    "        n_pages = api.last_page()\n",
    "        n_pages = n_pages if n_pages > 0 else 1\n",
    "\n",
    "        all_pages = pages(\n",
    "            api.issues.list_for_repo,\n",
    "            n_pages,\n",
    "            owner,\n",
    "            repo,\n",
    "            per_page=per_page,\n",
    "            creator=username,\n",
    "            headers={\"Accept\": \"application/vnd.github.v3.issues+json\"},\n",
    "        )\n",
    "        data.extend(\n",
    "            {\"repo\": repository, \"date\": item.created_at, \"count\": 1}\n",
    "            for page in all_pages\n",
    "            for item in page\n",
    "        )\n",
    "\n",
    "    return pd.DataFrame(data)"
   ]
  },
  {
   "cell_type": "code",
   "execution_count": null,
   "id": "868ad7b0-666e-4957-998c-0486b87a7efc",
   "metadata": {},
   "outputs": [],
   "source": [
    "data_df = get_data(repo_list, developer_username)\n",
    "data_df"
   ]
  },
  {
   "cell_type": "code",
   "execution_count": null,
   "id": "167335ca-9696-4af5-98dc-d04178d0503d",
   "metadata": {},
   "outputs": [],
   "source": [
    "df = data_df.copy()\n",
    "\n",
    "df = df[df.repo == \"scikit-hep/pyhf\"]\n",
    "# df = df[df.repo == \"scikit-hep/hist\"]\n",
    "\n",
    "df[\"date\"] = pd.to_datetime(df.date)\n",
    "df = df.resample(\"W-Mon\", on=\"date\").sum(numeric_only=True).cumsum()\n",
    "\n",
    "fig, ax = plt.subplots()\n",
    "\n",
    "time_fmt = mdates.AutoDateLocator()\n",
    "ax.xaxis.set_major_locator(time_fmt)\n",
    "\n",
    "ax.plot(df.index, df[\"count\"], label=\"x\")\n",
    "ax.legend(loc=\"best\", frameon=False)\n",
    "\n",
    "ax.set_xlabel(\"Date\", size=14)\n",
    "ax.set_ylabel(f\"Number of GitHub Issues opened\", size=14)\n",
    "\n",
    "fig.tight_layout()\n",
    "\n",
    "# df[\"date\"] = pd.to_datetime(df[\"date\"])\n",
    "# df = df.resample(\"W-Mon\", on=\"date\").sum().cumsum()"
   ]
  },
  {
   "cell_type": "code",
   "execution_count": null,
   "id": "9ae1065c-7ff2-4ab2-89e0-f0f908d11808",
   "metadata": {},
   "outputs": [],
   "source": [
    "_repo = repo_list[0]\n",
    "\n",
    "df = data_df.copy()\n",
    "\n",
    "df[\"date\"] = pd.to_datetime(df[\"date\"])\n",
    "df = df.resample(\"W-Mon\", on=\"date\").sum(numeric_only=True).cumsum()\n",
    "df[\"repo\"] = _repo\n",
    "\n",
    "fig, ax = plt.subplots()\n",
    "\n",
    "time_fmt = mdates.AutoDateLocator()\n",
    "ax.xaxis.set_major_locator(time_fmt)\n",
    "\n",
    "ax.plot(df.index, df[\"count\"], label=_repo)\n",
    "ax.legend(loc=\"best\", frameon=False)\n",
    "\n",
    "ax.set_xlabel(\"Date\", size=14)\n",
    "ax.set_ylabel(f\"Number of GitHub Issues opened\", size=14)\n",
    "\n",
    "fig.tight_layout()\n",
    "\n",
    "file_types = [\"png\", \"pdf\", \"svg\"]\n",
    "for extension in file_types:\n",
    "    fig.savefig(\n",
    "        f\"ghapi_{_repo.split('/')[1]}_issue_history.{extension}\", facecolor=\"white\"\n",
    "    )"
   ]
  },
  {
   "cell_type": "markdown",
   "id": "c761c2cc-dd31-4329-8e50-d4941ff2ce68",
   "metadata": {},
   "source": [
    "---"
   ]
  },
  {
   "cell_type": "code",
   "execution_count": null,
   "id": "3bf2160f-a7a1-435e-ac5e-558a670d7dd7",
   "metadata": {},
   "outputs": [],
   "source": [
    "activity = api.activity.list_public_events_for_user(developer_username, 30, 1)[4]"
   ]
  },
  {
   "cell_type": "code",
   "execution_count": null,
   "id": "f703f66e-c725-42fc-be80-bbd6f170ac8a",
   "metadata": {},
   "outputs": [],
   "source": [
    "if activity.repo.name in repo_list:\n",
    "    print(\"yay\")\n",
    "\n",
    "    if \"issue\" in activity.payload:\n",
    "        print(activity.payload.keys())\n",
    "        if activity.payload.action == \"opened\":\n",
    "            print(\n",
    "                f\"{developer_username} opened an issue on {activity.repo.name} as {activity.created_at}\"\n",
    "            )\n",
    "\n",
    "# activity"
   ]
  }
 ],
 "metadata": {
  "kernelspec": {
   "display_name": "Python 3 (ipykernel)",
   "language": "python",
   "name": "python3"
  },
  "language_info": {
   "codemirror_mode": {
    "name": "ipython",
    "version": 3
   },
   "file_extension": ".py",
   "mimetype": "text/x-python",
   "name": "python",
   "nbconvert_exporter": "python",
   "pygments_lexer": "ipython3",
   "version": "3.10.6"
  }
 },
 "nbformat": 4,
 "nbformat_minor": 5
}
